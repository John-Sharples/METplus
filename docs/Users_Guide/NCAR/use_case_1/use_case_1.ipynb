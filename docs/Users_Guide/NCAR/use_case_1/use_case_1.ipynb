{
  "cells": [
    {
      "cell_type": "code",
      "execution_count": null,
      "metadata": {
        "collapsed": false
      },
      "outputs": [],
      "source": [
        "%matplotlib inline"
      ]
    },
    {
      "cell_type": "markdown",
      "metadata": {},
      "source": [
        "\nSome Descriptive Name Here\n==========================\n\nAre we missing this?\n"
      ]
    },
    {
      "cell_type": "code",
      "execution_count": null,
      "metadata": {
        "collapsed": false
      },
      "outputs": [],
      "source": [
        "import numpy as np\nimport xarray as xr"
      ]
    },
    {
      "cell_type": "markdown",
      "metadata": {},
      "source": [
        "The file being rendered on this page is actually a \".py\" file.\n\nHowever, sphinx-gallery supports rendering RST from within a \".py\" file.\n\nWe can leverage the thumbnail-like gallery function of sphinx-gallery by writing RST in the example \".py\" file.\n\nThe advantage to this, is we can do things like incorporate static images:\n\n![](../../../../docs/_static/METplus_logo.png)\n\n\nOr we can just write straight Python code:\n\n"
      ]
    },
    {
      "cell_type": "code",
      "execution_count": null,
      "metadata": {
        "collapsed": false
      },
      "outputs": [],
      "source": [
        "#import os, subprocess\n\nx = 1\n\nmy_list = ['Dan','George','Minna']"
      ]
    },
    {
      "cell_type": "markdown",
      "metadata": {},
      "source": [
        "We can even use fancy LaTeX MATH stuff:\n\n\\begin{align}\\sin (x)\\end{align}\n\n"
      ]
    },
    {
      "cell_type": "code",
      "execution_count": null,
      "metadata": {
        "collapsed": false
      },
      "outputs": [],
      "source": [
        "for i in my_list:\n  print(\"Name = \",i)"
      ]
    },
    {
      "cell_type": "markdown",
      "metadata": {},
      "source": [
        "You can even reference other module/package documentation using intersphinx right within the use case \".py\" file:\n\nBut I can't seem to get this to work...\n\nI think in order to get this to work METplus has to be \"importable\"...which it is not currently.\n\nPossible answer `here <https://sphinx-gallery.github.io/configuration.html#link-to-documentation>`_\n\n"
      ]
    },
    {
      "cell_type": "code",
      "execution_count": null,
      "metadata": {
        "collapsed": false
      },
      "outputs": [],
      "source": [
        "# Do we need a space here?\ny = np.sin(x)\n\n# How about here?\ndata = xr.open_dataset(\"test.nc\")"
      ]
    },
    {
      "cell_type": "markdown",
      "metadata": {},
      "source": [
        "The file is essentially a hybrid Python/RST file\n\n"
      ]
    },
    {
      "cell_type": "markdown",
      "metadata": {},
      "source": [
        "At the bottom of each PY file, we should include a \".. tip::\" directive, and then include each MET tool.\nExample:\n\n<div class=\"alert alert-info\"><h4>Note</h4><p>GridStatUseCase, PB2NCUseCase</p></div>\n\nThis will allow the \"search bar\" on the github.io page to find these pages, since the search bar only indexes things that are put into the HTML files.\n\n"
      ]
    }
  ],
  "metadata": {
    "kernelspec": {
      "display_name": "Python 3",
      "language": "python",
      "name": "python3"
    },
    "language_info": {
      "codemirror_mode": {
        "name": "ipython",
        "version": 3
      },
      "file_extension": ".py",
      "mimetype": "text/x-python",
      "name": "python",
      "nbconvert_exporter": "python",
      "pygments_lexer": "ipython3",
      "version": "3.7.3"
    }
  },
  "nbformat": 4,
  "nbformat_minor": 0
}